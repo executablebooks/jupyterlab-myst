{
 "cells": [
  {
   "cell_type": "markdown",
   "id": "613eaf50-e4f0-4328-b0be-c246fb216577",
   "metadata": {},
   "source": [
    "---\n",
    "title: Inline Interactivity in Jupyter using MyST\n",
    "subtitle: Using inline widgets in JupyterLab markdown cells\n",
    "author:\n",
    "  - name: Rowan Cockett\n",
    "    affiliations: Executable Books; Curvenote\n",
    "    orcid: 0000-0002-7859-8394\n",
    "    email: rowan@curvenote.com\n",
    "  - name: Angus Hollands\n",
    "    affiliations: Executable Books\n",
    "  - name: Steve Purves\n",
    "    affiliations: Executable Books; Curvenote\n",
    "date: 2023/02/20\n",
    "---\n",
    "\n",
    "The [JupyterLab MyST extension](https://github.com/executablebooks/jupyterlab-myst) allows you to have MyST renderer in your markdown cells that includes interactivity and inline-evaluation."
   ]
  },
  {
   "cell_type": "markdown",
   "id": "d3c1dba2-889d-4817-8d48-83d45c03a337",
   "metadata": {
    "user_expressions": [
     {
      "expression": "1+1",
      "result": {
       "data": {
        "text/plain": "2"
       },
       "metadata": {},
       "status": "ok"
      }
     }
    ]
   },
   "source": [
    "This is done through the `` {eval}`1+1` `` role, which results in {eval}`1+1`. The extension can also access variables in the kernel.\n",
    "\n",
    ":::{warning} Syntax is Subject to Change\n",
    ":class: dropdown\n",
    "The current syntax is based on a myst role, which may change in the future -- for example to be closer to an inline expression `${}`. This will go through a MyST enhancement proposal, and the `{eval}` role will likely still be supported.\n",
    ":::"
   ]
  },
  {
   "cell_type": "code",
   "execution_count": 9,
   "id": "90dffa46-b084-4b24-a650-e5f5a9aa526e",
   "metadata": {
    "tags": []
   },
   "outputs": [],
   "source": [
    "import numpy as np\n",
    "array = np.arange(4)"
   ]
  },
  {
   "cell_type": "markdown",
   "id": "e8af4aa1-9d91-494e-9a76-4d57a611d9e0",
   "metadata": {
    "user_expressions": [
     {
      "expression": "array",
      "result": {
       "data": {
        "text/plain": "array([0, 1, 2, 3])"
       },
       "metadata": {},
       "status": "ok"
      }
     },
     {
      "expression": "array.sum()",
      "result": {
       "data": {
        "text/plain": "6"
       },
       "metadata": {},
       "status": "ok"
      }
     },
     {
      "expression": "array.max()",
      "result": {
       "data": {
        "text/plain": "3"
       },
       "metadata": {},
       "status": "ok"
      }
     }
    ]
   },
   "source": [
    "Let's consider the following array: {eval}`array`.\n",
    "\n",
    "We can compute the total: {eval}`array.sum()` and the maximum value is {eval}`array.max()`.\n",
    "\n",
    "This is done through using MyST syntax: `` {eval}`array.sum()` `` and `` {eval}`array.max()` ``, respectively."
   ]
  },
  {
   "cell_type": "markdown",
   "id": "7ed74234-5230-4cdc-9e26-21fb1aca70a2",
   "metadata": {},
   "source": [
    "## Displaying text values computed by widgets\n",
    "\n",
    "The example below builds a small widget that updates several values, and we then display them in markdown cells. We use a [`widgets.Label` object](https://ipywidgets.readthedocs.io/en/stable/examples/Widget%20List.html?#Label), which stores a _string_ value and displays it as formatted html."
   ]
  },
  {
   "cell_type": "code",
   "execution_count": 10,
   "id": "5ffba1f7-e455-4dce-a645-38988d97b01b",
   "metadata": {
    "tags": []
   },
   "outputs": [],
   "source": [
    "import ipywidgets as widgets\n",
    "\n",
    "cookiesSlider = widgets.IntSlider(min=0, max=30, step=1, value=10, description=\"Cookies: \")\n",
    "cookiesText = widgets.BoundedIntText(\n",
    "    value=10,\n",
    "    min=0,\n",
    "    max=30,\n",
    "    step=1,\n",
    ")\n",
    "widgetLink = widgets.jslink((cookiesSlider, 'value'), (cookiesText, 'value'))\n",
    "\n",
    "caloriesPerCookie = 50\n",
    "dailyCalories = 2100\n",
    "\n",
    "calories = widgets.Label(value=f'{cookiesSlider.value * caloriesPerCookie}')\n",
    "def fc(n):\n",
    "    calories.value = f'{n[\"owner\"].value * caloriesPerCookie}'\n",
    "cookiesSlider.observe(fc)\n",
    "\n",
    "def pct_cookie(cookies):\n",
    "    return f\"{cookies * caloriesPerCookie / dailyCalories * 100:.1f}\"\n",
    "\n",
    "percent = widgets.Label(value=pct_cookie(cookiesSlider.value))\n",
    "\n",
    "def fp(change):\n",
    "    percent.value = pct_cookie(change['new'])\n",
    "    \n",
    "cookiesSlider.observe(fp, 'value')"
   ]
  },
  {
   "cell_type": "markdown",
   "id": "b8ac6e3c-2982-4921-a882-6b4eeaffe936",
   "metadata": {
    "user_expressions": [
     {
      "expression": "cookiesText",
      "result": {
       "data": {
        "application/vnd.jupyter.widget-view+json": {
         "model_id": "3bba1ee6d0a74d61b743ae599188efb1",
         "version_major": 2,
         "version_minor": 0
        },
        "text/plain": "BoundedIntText(value=10, max=30)"
       },
       "metadata": {},
       "status": "ok"
      }
     },
     {
      "expression": "calories",
      "result": {
       "data": {
        "application/vnd.jupyter.widget-view+json": {
         "model_id": "b0143ae566f54ff79faa349764e5c1f7",
         "version_major": 2,
         "version_minor": 0
        },
        "text/plain": "Label(value='500')"
       },
       "metadata": {},
       "status": "ok"
      }
     },
     {
      "expression": "percent",
      "result": {
       "data": {
        "application/vnd.jupyter.widget-view+json": {
         "model_id": "3ffd4ad8594a485689776b2334ebff37",
         "version_major": 2,
         "version_minor": 0
        },
        "text/plain": "Label(value='23.8')"
       },
       "metadata": {},
       "status": "ok"
      }
     },
     {
      "expression": "cookiesSlider",
      "result": {
       "data": {
        "application/vnd.jupyter.widget-view+json": {
         "model_id": "19a1a9ab5c8e4639b00d770188bbe617",
         "version_major": 2,
         "version_minor": 0
        },
        "text/plain": "IntSlider(value=10, description='Cookies: ', max=30)"
       },
       "metadata": {},
       "status": "ok"
      }
     }
    ]
   },
   "source": [
    ":::{important} Calculate Consuming Cookie Calories 🍪 🧮\n",
    "When you eat {eval}`cookiesText` cookies, you consume {eval}`calories` calories. \n",
    "\n",
    "That's {eval}`percent`% of your recommended daily calories.\n",
    "\n",
    ":::\n",
    "\n",
    "You can also edit this through a slider if you want: {eval}`cookiesSlider`\n",
    "\n",
    ":::{note} Improvements\n",
    ":class: dropdown\n",
    "There is a lot to improve both for formatting (e.g. format the numbering) and for the verbosity of the above code for linking and calculating the widgets.\n",
    "These are probably going to be a combination of a MyST library for working with simple inline widgets and showing numbers, as well as improvements and tweaks to the inline renderers for the mime bundles.\n",
    "\n",
    "But you can already do things! 🚀\n",
    ":::"
   ]
  },
  {
   "cell_type": "markdown",
   "id": "bed29f27-b96d-4764-aa59-cd6fed8a9c69",
   "metadata": {},
   "source": [
    "## Math rendering\n",
    "\n",
    "You can create mathematical content with direct evaluation of expressions by combining Sympy's LaTeX output and Jupyter's built-in math rendering. Consider the following simple example:"
   ]
  },
  {
   "cell_type": "code",
   "execution_count": 11,
   "id": "17290f9d-034c-41d0-828b-5af14e14edfa",
   "metadata": {
    "tags": []
   },
   "outputs": [],
   "source": [
    "import sympy as sy\n",
    "x = sy.Symbol('x')\n",
    "expr = x**2 + x + 1\n",
    "I = sy.Integral(expr, (x, 0, 1))"
   ]
  },
  {
   "cell_type": "markdown",
   "id": "b10ff885-9088-442a-b5bd-410aa9a4a45a",
   "metadata": {
    "user_expressions": [
     {
      "expression": "I",
      "result": {
       "data": {
        "text/latex": "$\\displaystyle \\int\\limits_{0}^{1} \\left(x^{2} + x + 1\\right)\\, dx$",
        "text/plain": "Integral(x**2 + x + 1, (x, 0, 1))"
       },
       "metadata": {},
       "status": "ok"
      }
     },
     {
      "expression": "I",
      "result": {
       "data": {
        "text/latex": "$\\displaystyle \\int\\limits_{0}^{1} \\left(x^{2} + x + 1\\right)\\, dx$",
        "text/plain": "Integral(x**2 + x + 1, (x, 0, 1))"
       },
       "metadata": {},
       "status": "ok"
      }
     },
     {
      "expression": "I.doit()",
      "result": {
       "data": {
        "text/latex": "$\\displaystyle \\frac{11}{6}$",
        "text/plain": "11/6"
       },
       "metadata": {},
       "status": "ok"
      }
     }
    ]
   },
   "source": [
    "The integral {eval}`I` can be analytically computed:\n",
    "\n",
    "{eval}`I` = {eval}`I.doit()`.\n",
    "\n",
    ":::{warning} Math rendering is still unstable\n",
    "\n",
    "We've noticed issues with this feature - rendering is slow and sometimes weird glitches occur. [We're tracking it](https://github.com/executablebooks/jupyterlab-myst/issues/96).\n",
    ":::"
   ]
  },
  {
   "cell_type": "markdown",
   "id": "bf3319ef-6a71-46b8-a311-b33845da400d",
   "metadata": {},
   "source": [
    "## Markdown, videos, images and more\n",
    "\n",
    "Note that you can use the `Markdown` object built into `IPython.display` to programatically compute Markdown results that will work as if you had typed them. Here's a simple example of constructing a predictable link, that of a YouTube video, based on its video ID:"
   ]
  },
  {
   "cell_type": "code",
   "execution_count": 12,
   "id": "7e96d874-9717-4100-b8a2-582ea8f2952b",
   "metadata": {
    "tags": []
   },
   "outputs": [],
   "source": [
    "from IPython.display import Markdown, YouTubeVideo\n",
    "\n",
    "def ytlink(vid):\n",
    "    return Markdown(f\"[YouTube Video](https://www.youtube.com/watch?v={vid})\")"
   ]
  },
  {
   "cell_type": "markdown",
   "id": "e884e9a8-9d2e-4163-8118-923980bdc38b",
   "metadata": {
    "user_expressions": [
     {
      "expression": "ytlink('NxSNVt9XsCI')",
      "result": {
       "data": {
        "text/markdown": "[YouTube Video](https://www.youtube.com/watch?v=NxSNVt9XsCI)",
        "text/plain": "<IPython.core.display.Markdown object>"
       },
       "metadata": {},
       "status": "ok"
      }
     }
    ]
   },
   "source": [
    "This {eval}`ytlink('NxSNVt9XsCI')` is a tutorial on how to use MyST for writing scientific documents.\n",
    "\n",
    ":::{warning} Inline videos don't work yet\n",
    "\n",
    "Note that the following code should produce a working video, as you can see in the next cell. This is not currently working, but [we're tracking it](https://github.com/executablebooks/jupyterlab-myst/issues/97).\n",
    "\n",
    "```\n",
    "{eval}`YouTubeVideo('NxSNVt9XsCI')`\n",
    "```\n",
    ":::"
   ]
  },
  {
   "cell_type": "code",
   "execution_count": 13,
   "id": "517c9149-a44a-46fd-b336-c017a9eba523",
   "metadata": {
    "tags": []
   },
   "outputs": [
    {
     "data": {
      "image/jpeg": "[encoded data removed]",
      "text/html": [
       "\n",
       "        <iframe\n",
       "            width=\"400\"\n",
       "            height=\"300\"\n",
       "            src=\"https://www.youtube.com/embed/NxSNVt9XsCI\"\n",
       "            frameborder=\"0\"\n",
       "            allowfullscreen\n",
       "            \n",
       "        ></iframe>\n",
       "        "
      ],
      "text/plain": [
       "<IPython.lib.display.YouTubeVideo at 0x7f08344e5f90>"
      ]
     },
     "execution_count": 13,
     "metadata": {},
     "output_type": "execute_result"
    }
   ],
   "source": [
    "from IPython.display import YouTubeVideo\n",
    "YouTubeVideo('NxSNVt9XsCI')"
   ]
  },
  {
   "cell_type": "code",
   "execution_count": 14,
   "id": "600e74dc-6c54-4cb4-91c3-0e5107fcf589",
   "metadata": {
    "tags": []
   },
   "outputs": [],
   "source": [
    "from IPython.display import Image, HTML\n",
    "\n",
    "i = Image(url='https://source.unsplash.com/random/400x50?sunset')"
   ]
  },
  {
   "cell_type": "markdown",
   "id": "edafa8a3-8dcd-4db3-a4cf-90c6aaf461bb",
   "metadata": {
    "user_expressions": [
     {
      "expression": "i",
      "result": {
       "data": {
        "text/html": "<img src=\"https://source.unsplash.com/random/400x50?sunset\"/>",
        "text/plain": "<IPython.core.display.Image object>"
       },
       "metadata": {},
       "status": "ok"
      }
     }
    ]
   },
   "source": [
    "This should be an inline image of a sunset: {eval}`i`"
   ]
  },
  {
   "cell_type": "code",
   "execution_count": 15,
   "id": "7a29588f-afb7-4e2b-99fb-132c6ab04372",
   "metadata": {
    "tags": []
   },
   "outputs": [],
   "source": [
    "import numpy as np\n",
    "import matplotlib.pyplot as plt\n",
    "\n",
    "def spark(data):\n",
    "    \"\"\"A very simple sparkline.\n",
    "    \"\"\"\n",
    "    fig, ax = plt.subplots(figsize=(10,2))\n",
    "    ax.plot(data, 'b-')\n",
    "    ax.axhline(c='grey', alpha=0.5);\n",
    "    ax.axis('off')\n",
    "    fig.tight_layout()\n",
    "    plt.close(fig)\n",
    "    return fig, ax\n",
    "\n",
    "# Step 1: Predict the stock market, with surprising accuracy:\n",
    "data = np.cumsum(np.random.rand(1000)-0.5)\n",
    "data -= np.mean(data)\n",
    "\n",
    "stocks, ax1 = spark(data)\n",
    "annotated, ax2 = spark(data)\n",
    "ax2.axvspan(450, 560, color='red', alpha=0.5)\n",
    "ax2.axvspan(680, 740, color='green', alpha=0.5);"
   ]
  },
  {
   "cell_type": "markdown",
   "id": "60a959ef-e31b-4383-9865-982e574debd3",
   "metadata": {
    "user_expressions": [
     {
      "expression": "stocks",
      "result": {
       "data": {
        "image/png": "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",
        "text/plain": "<Figure size 1000x200 with 1 Axes>"
       },
       "metadata": {},
       "status": "ok"
      }
     },
     {
      "expression": "annotated",
      "result": {
       "data": {
        "image/png": "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",
        "text/plain": "<Figure size 1000x200 with 1 Axes>"
       },
       "metadata": {},
       "status": "ok"
      }
     }
    ]
   },
   "source": [
    "\n",
    "If we look at the following stock price for [Apple](https://en.wikipedia.org/wiki/Apple_Inc.) ({eval}`stocks`) we can see that in 2003, they started selling [computers](https://en.wikipedia.org/wiki/MacBook_Pro), in the red region and their stock went crazy once the investment paid off ({eval}`annotated`).[^note]\n",
    "\n",
    "[^note]: Both the graphs are fake, but pretty cool right!  "
   ]
  },
  {
   "cell_type": "code",
   "execution_count": 16,
   "id": "463cdcbe-066d-4187-bf4a-d09b4233666f",
   "metadata": {
    "tags": []
   },
   "outputs": [],
   "source": [
    "text_hover = HTML('<span onmouseover=\"this.innerText=\\'💚\\'\" onmouseout=\"this.innerText=\\'🎉\\'\">❤️</span>');"
   ]
  },
  {
   "cell_type": "markdown",
   "id": "dd711f73-94eb-4da4-ba01-2ac822450a2f",
   "metadata": {
    "tags": [],
    "user_expressions": [
     {
      "expression": "text_hover",
      "result": {
       "data": {
        "text/html": "<span onmouseover=\"this.innerText='💚'\" onmouseout=\"this.innerText='🎉'\">❤️</span>",
        "text/plain": "<IPython.core.display.HTML object>"
       },
       "metadata": {},
       "status": "ok"
      }
     }
    ]
   },
   "source": [
    "Try hovering over this element[^trust]: {eval}`text_hover`\n",
    "\n",
    "[^trust]: You may need to set your notebook to trusted to do this (open the Command Palette from the `View` menu and type \"trust\")!"
   ]
  }
 ],
 "metadata": {
  "kernelspec": {
   "display_name": "Python 3 (ipykernel)",
   "language": "python",
   "name": "python3"
  },
  "language_info": {
   "codemirror_mode": {
    "name": "ipython",
    "version": 3
   },
   "file_extension": ".py",
   "mimetype": "text/x-python",
   "name": "python",
   "nbconvert_exporter": "python",
   "pygments_lexer": "ipython3",
   "version": "3.10.6"
  },
  "widgets": {
   "application/vnd.jupyter.widget-state+json": {
    "state": {
     "0475c9891b1041ac958732b3f3dfde80": {
      "model_module": "@jupyter-widgets/base",
      "model_module_version": "2.0.0",
      "model_name": "LayoutModel",
      "state": {}
     },
     "1e8ab668a82f4bca84d0731092af405f": {
      "model_module": "@jupyter-widgets/controls",
      "model_module_version": "2.0.0",
      "model_name": "LabelModel",
      "state": {
       "layout": "IPY_MODEL_2e78dacf92a94dd6aa3919a29722948b",
       "style": "IPY_MODEL_480aadd6662c4c2bbcca8ef67255e64a",
       "value": "500"
      }
     },
     "274ed93dcd0f4897a95f314dc1f3b1fb": {
      "model_module": "@jupyter-widgets/base",
      "model_module_version": "2.0.0",
      "model_name": "LayoutModel",
      "state": {}
     },
     "2766f4faadcd443f8c195bf614a30035": {
      "model_module": "@jupyter-widgets/controls",
      "model_module_version": "2.0.0",
      "model_name": "DescriptionStyleModel",
      "state": {
       "description_width": ""
      }
     },
     "2e78dacf92a94dd6aa3919a29722948b": {
      "model_module": "@jupyter-widgets/base",
      "model_module_version": "2.0.0",
      "model_name": "LayoutModel",
      "state": {}
     },
     "38bb524a0a544221a6d57312a1b24323": {
      "model_module": "@jupyter-widgets/controls",
      "model_module_version": "2.0.0",
      "model_name": "LabelModel",
      "state": {
       "layout": "IPY_MODEL_274ed93dcd0f4897a95f314dc1f3b1fb",
       "style": "IPY_MODEL_64cee23ec9524879aa172d0271642964",
       "value": "23.8"
      }
     },
     "480aadd6662c4c2bbcca8ef67255e64a": {
      "model_module": "@jupyter-widgets/controls",
      "model_module_version": "2.0.0",
      "model_name": "LabelStyleModel",
      "state": {
       "description_width": "",
       "font_family": null,
       "font_size": null,
       "font_style": null,
       "font_variant": null,
       "font_weight": null,
       "text_color": null,
       "text_decoration": null
      }
     },
     "62a7cd9328f142c98184357d8951af13": {
      "model_module": "@jupyter-widgets/controls",
      "model_module_version": "2.0.0",
      "model_name": "SliderStyleModel",
      "state": {
       "description_width": ""
      }
     },
     "64cee23ec9524879aa172d0271642964": {
      "model_module": "@jupyter-widgets/controls",
      "model_module_version": "2.0.0",
      "model_name": "LabelStyleModel",
      "state": {
       "description_width": "",
       "font_family": null,
       "font_size": null,
       "font_style": null,
       "font_variant": null,
       "font_weight": null,
       "text_color": null,
       "text_decoration": null
      }
     },
     "72a3e705505044a49019394d40092e25": {
      "model_module": "@jupyter-widgets/base",
      "model_module_version": "2.0.0",
      "model_name": "LayoutModel",
      "state": {}
     },
     "888a2a0691f44d008052ded919537342": {
      "model_module": "@jupyter-widgets/controls",
      "model_module_version": "2.0.0",
      "model_name": "LinkModel",
      "state": {
       "source": [
        "IPY_MODEL_b026379e864a457585df0502be54ba98",
        "value"
       ],
       "target": [
        "IPY_MODEL_99c2b3b4f0634fb19a6586a1b7c048ad",
        "value"
       ]
      }
     },
     "99c2b3b4f0634fb19a6586a1b7c048ad": {
      "model_module": "@jupyter-widgets/controls",
      "model_module_version": "2.0.0",
      "model_name": "BoundedIntTextModel",
      "state": {
       "layout": "IPY_MODEL_72a3e705505044a49019394d40092e25",
       "max": 30,
       "style": "IPY_MODEL_2766f4faadcd443f8c195bf614a30035",
       "value": 10
      }
     },
     "b026379e864a457585df0502be54ba98": {
      "model_module": "@jupyter-widgets/controls",
      "model_module_version": "2.0.0",
      "model_name": "IntSliderModel",
      "state": {
       "behavior": "drag-tap",
       "description": "Cookies: ",
       "layout": "IPY_MODEL_0475c9891b1041ac958732b3f3dfde80",
       "max": 30,
       "style": "IPY_MODEL_62a7cd9328f142c98184357d8951af13",
       "value": 10
      }
     }
    },
    "version_major": 2,
    "version_minor": 0
   }
  }
 },
 "nbformat": 4,
 "nbformat_minor": 5
}

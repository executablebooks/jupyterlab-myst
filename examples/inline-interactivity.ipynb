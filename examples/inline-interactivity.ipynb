{
 "cells": [
  {
   "cell_type": "markdown",
   "id": "613eaf50-e4f0-4328-b0be-c246fb216577",
   "metadata": {
    "user_expressions": []
   },
   "source": [
    "---\n",
    "title: Inline Interactivity in Jupyter using MyST\n",
    "subtitle: Using inline widgets in JupyterLab markdown cells\n",
    "author:\n",
    "  - name: Rowan Cockett\n",
    "    affiliations: Executable Books; Curvenote\n",
    "    orcid: 0000-0002-7859-8394\n",
    "    email: rowan@curvenote.com\n",
    "  - name: Angus Hollands\n",
    "    affiliations: Executable Books\n",
    "  - name: Steve Purves\n",
    "    affiliations: Executable Books; Curvenote\n",
    "date: 2023/02/20\n",
    "---\n",
    "\n",
    "The [JupyterLab MyST extension](https://github.com/executablebooks/jupyterlab-myst) allows you to have MyST renderer in your markdown cells that includes interactivity and inline-evaluation."
   ]
  },
  {
   "cell_type": "markdown",
   "id": "d3c1dba2-889d-4817-8d48-83d45c03a337",
   "metadata": {
    "user_expressions": [
     {
      "expression": "1+1",
      "result": {
       "data": {
        "text/plain": "2"
       },
       "metadata": {},
       "status": "ok"
      }
     }
    ]
   },
   "source": [
    "This is done through the `` {eval}`1+1` `` role, which results in {eval}`1+1`. The extension can also access variables in the kernel.\n",
    "\n",
    ":::{warning} Syntax is Subject to Change\n",
    ":class: dropdown\n",
    "The current syntax is based on a myst role, which may change in the future -- for example to be closer to an inline expression `${}`. This will go through a MyST enhancement proposal, and the `{eval}` role will likely still be supported.\n",
    ":::"
   ]
  },
  {
   "cell_type": "code",
   "execution_count": 1,
   "id": "90dffa46-b084-4b24-a650-e5f5a9aa526e",
   "metadata": {
    "tags": []
   },
   "outputs": [],
   "source": [
    "import numpy as np\n",
    "array = np.arange(4)"
   ]
  },
  {
   "cell_type": "markdown",
   "id": "e8af4aa1-9d91-494e-9a76-4d57a611d9e0",
   "metadata": {
    "user_expressions": [
     {
      "expression": "array",
      "result": {
       "data": {
        "text/plain": "array([0, 1, 2, 3])"
       },
       "metadata": {},
       "status": "ok"
      }
     },
     {
      "expression": "array.sum()",
      "result": {
       "data": {
        "text/plain": "6"
       },
       "metadata": {},
       "status": "ok"
      }
     },
     {
      "expression": "array.max()",
      "result": {
       "data": {
        "text/plain": "3"
       },
       "metadata": {},
       "status": "ok"
      }
     }
    ]
   },
   "source": [
    "Let's consider the following array: {eval}`array`.\n",
    "\n",
    "We can compute the total: {eval}`array.sum()` and the maximum value is {eval}`array.max()`.\n",
    "\n",
    "This is done through using MyST syntax: `` {eval}`array.sum()` `` and `` {eval}`array.max()` ``, respectively."
   ]
  },
  {
   "cell_type": "markdown",
   "id": "7ed74234-5230-4cdc-9e26-21fb1aca70a2",
   "metadata": {
    "user_expressions": []
   },
   "source": [
    "## Displaying text values computed by widgets\n",
    "\n",
    "The example below builds a small widget that updates several values, and we then display them in markdown cells. We use a [`widgets.Label` object](https://ipywidgets.readthedocs.io/en/stable/examples/Widget%20List.html?#Label), which stores a _string_ value and displays it as formatted html."
   ]
  },
  {
   "cell_type": "code",
   "execution_count": 2,
   "id": "5ffba1f7-e455-4dce-a645-38988d97b01b",
   "metadata": {
    "tags": []
   },
   "outputs": [],
   "source": [
    "import ipywidgets as widgets\n",
    "\n",
    "cookiesSlider = widgets.IntSlider(min=0, max=30, step=1, value=10, description=\"Cookies: \")\n",
    "cookiesText = widgets.BoundedIntText(\n",
    "    value=10,\n",
    "    min=0,\n",
    "    max=30,\n",
    "    step=1,\n",
    ")\n",
    "widgetLink = widgets.jslink((cookiesSlider, 'value'), (cookiesText, 'value'))\n",
    "\n",
    "caloriesPerCookie = 50\n",
    "dailyCalories = 2100\n",
    "\n",
    "calories = widgets.Label(value=f'{cookiesSlider.value * caloriesPerCookie}')\n",
    "def fc(n):\n",
    "    calories.value = f'{n[\"owner\"].value * caloriesPerCookie}'\n",
    "cookiesSlider.observe(fc)\n",
    "\n",
    "def pct_cookie(cookies):\n",
    "    return f\"{cookies * caloriesPerCookie / dailyCalories * 100:.1f}\"\n",
    "\n",
    "percent = widgets.Label(value=pct_cookie(cookiesSlider.value))\n",
    "\n",
    "def fp(change):\n",
    "    percent.value = pct_cookie(change['new'])\n",
    "    \n",
    "cookiesSlider.observe(fp, 'value')"
   ]
  },
  {
   "cell_type": "markdown",
   "id": "b8ac6e3c-2982-4921-a882-6b4eeaffe936",
   "metadata": {
    "user_expressions": [
     {
      "expression": "cookiesText",
      "result": {
       "data": {
        "application/vnd.jupyter.widget-view+json": {
         "model_id": "f62bf7d11e5845f3800e81f25bf1a857",
         "version_major": 2,
         "version_minor": 0
        },
        "text/plain": "BoundedIntText(value=10, max=30)"
       },
       "metadata": {},
       "status": "ok"
      }
     },
     {
      "expression": "calories",
      "result": {
       "data": {
        "application/vnd.jupyter.widget-view+json": {
         "model_id": "8a61a01b20ed4409b74116a05696230d",
         "version_major": 2,
         "version_minor": 0
        },
        "text/plain": "Label(value='500')"
       },
       "metadata": {},
       "status": "ok"
      }
     },
     {
      "expression": "percent",
      "result": {
       "data": {
        "application/vnd.jupyter.widget-view+json": {
         "model_id": "3192b16eed2b45fb9529169dcc9e29a3",
         "version_major": 2,
         "version_minor": 0
        },
        "text/plain": "Label(value='23.8')"
       },
       "metadata": {},
       "status": "ok"
      }
     },
     {
      "expression": "cookiesSlider",
      "result": {
       "data": {
        "application/vnd.jupyter.widget-view+json": {
         "model_id": "3028a2eaf93048e2b160747e9cd024b7",
         "version_major": 2,
         "version_minor": 0
        },
        "text/plain": "IntSlider(value=10, description='Cookies: ', max=30)"
       },
       "metadata": {},
       "status": "ok"
      }
     }
    ]
   },
   "source": [
    ":::{important} Calculate Consuming Cookie Calories 🍪 🧮\n",
    "When you eat {eval}`cookiesText` cookies, you consume {eval}`calories` calories. \n",
    "\n",
    "That's {eval}`percent`% of your recommended daily calories.\n",
    "\n",
    ":::\n",
    "\n",
    "You can also edit this through a slider if you want: {eval}`cookiesSlider`\n",
    "\n",
    ":::{note} Improvements\n",
    ":class: dropdown\n",
    "There is a lot to improve both for formatting (e.g. format the numbering) and for the verbosity of the above code for linking and calculating the widgets.\n",
    "These are probably going to be a combination of a MyST library for working with simple inline widgets and showing numbers, as well as improvements and tweaks to the inline renderers for the mime bundles.\n",
    "\n",
    "But you can already do things! 🚀\n",
    ":::"
   ]
  },
  {
   "cell_type": "markdown",
   "id": "bed29f27-b96d-4764-aa59-cd6fed8a9c69",
   "metadata": {
    "user_expressions": []
   },
   "source": [
    "## Math rendering\n",
    "\n",
    "You can create mathematical content with direct evaluation of expressions by combining Sympy's LaTeX output and Jupyter's built-in math rendering. Consider the following simple example:"
   ]
  },
  {
   "cell_type": "code",
   "execution_count": 3,
   "id": "17290f9d-034c-41d0-828b-5af14e14edfa",
   "metadata": {
    "tags": []
   },
   "outputs": [],
   "source": [
    "import sympy as sy\n",
    "x = sy.Symbol('x')\n",
    "expr = x**2 + x + 1\n",
    "I = sy.Integral(expr, (x, 0, 1))"
   ]
  },
  {
   "cell_type": "markdown",
   "id": "b10ff885-9088-442a-b5bd-410aa9a4a45a",
   "metadata": {
    "user_expressions": [
     {
      "expression": "I",
      "result": {
       "data": {
        "text/latex": "$\\displaystyle \\int\\limits_{0}^{1} \\left(x^{2} + x + 1\\right)\\, dx$",
        "text/plain": "Integral(x**2 + x + 1, (x, 0, 1))"
       },
       "metadata": {},
       "status": "ok"
      }
     },
     {
      "expression": "I",
      "result": {
       "data": {
        "text/latex": "$\\displaystyle \\int\\limits_{0}^{1} \\left(x^{2} + x + 1\\right)\\, dx$",
        "text/plain": "Integral(x**2 + x + 1, (x, 0, 1))"
       },
       "metadata": {},
       "status": "ok"
      }
     },
     {
      "expression": "I.doit()",
      "result": {
       "data": {
        "text/latex": "$\\displaystyle \\frac{11}{6}$",
        "text/plain": "11/6"
       },
       "metadata": {},
       "status": "ok"
      }
     }
    ]
   },
   "source": [
    "The integral {eval}`I` can be analytically computed:\n",
    "\n",
    "{eval}`I` = {eval}`I.doit()`.\n",
    "\n",
    ":::{warning} Math rendering is still unstable\n",
    "\n",
    "We've noticed issues with this feature - rendering is slow and sometimes weird glitches orccur. [We're tracking it](https://github.com/executablebooks/jupyterlab-myst/issues/96).\n",
    ":::"
   ]
  },
  {
   "cell_type": "markdown",
   "id": "bf3319ef-6a71-46b8-a311-b33845da400d",
   "metadata": {
    "user_expressions": []
   },
   "source": [
    "## Markdown, videos, images and more\n",
    "\n",
    "Note that you can use the `Markdown` object built into `IPython.display` to programatically compute Markdown results that will work as if you had typed them. Here's a simple example of constructing a predictable link, that of a YouTube video, based on its video ID:"
   ]
  },
  {
   "cell_type": "code",
   "execution_count": 4,
   "id": "7e96d874-9717-4100-b8a2-582ea8f2952b",
   "metadata": {
    "tags": []
   },
   "outputs": [],
   "source": [
    "from IPython.display import Markdown, YouTubeVideo\n",
    "\n",
    "def ytlink(vid):\n",
    "    return Markdown(f\"[YouTube Video](https://www.youtube.com/watch?v={vid})\")"
   ]
  },
  {
   "cell_type": "markdown",
   "id": "e884e9a8-9d2e-4163-8118-923980bdc38b",
   "metadata": {
    "user_expressions": [
     {
      "expression": "ytlink('NxSNVt9XsCI')",
      "result": {
       "data": {
        "text/markdown": "[YouTube Video](https://www.youtube.com/watch?v=NxSNVt9XsCI)",
        "text/plain": "<IPython.core.display.Markdown object>"
       },
       "metadata": {},
       "status": "ok"
      }
     }
    ]
   },
   "source": [
    "This {eval}`ytlink('NxSNVt9XsCI')` is a tutorial on how to use MyST for writing scientific documents.\n",
    "\n",
    ":::{warning} Inline videos don't work yet\n",
    "\n",
    "Note that the following code should produce a working video, as you can see in the next cell. This is not currently working, but [we're tracking it](https://github.com/executablebooks/jupyterlab-myst/issues/97).\n",
    "\n",
    "```\n",
    "{eval}`YouTubeVideo('NxSNVt9XsCI')`\n",
    "```\n",
    ":::"
   ]
  },
  {
   "cell_type": "code",
   "execution_count": 5,
   "id": "517c9149-a44a-46fd-b336-c017a9eba523",
   "metadata": {
    "tags": []
   },
   "outputs": [
    {
     "data": {
      "image/jpeg": "[encoded data removed]",
      "text/html": [
       "\n",
       "        <iframe\n",
       "            width=\"400\"\n",
       "            height=\"300\"\n",
       "            src=\"https://www.youtube.com/embed/NxSNVt9XsCI\"\n",
       "            frameborder=\"0\"\n",
       "            allowfullscreen\n",
       "            \n",
       "        ></iframe>\n",
       "        "
      ],
      "text/plain": [
       "<IPython.lib.display.YouTubeVideo at 0x7f3cba98b1f0>"
      ]
     },
     "execution_count": 5,
     "metadata": {},
     "output_type": "execute_result"
    }
   ],
   "source": [
    "from IPython.display import YouTubeVideo\n",
    "YouTubeVideo('NxSNVt9XsCI')"
   ]
  },
  {
   "cell_type": "code",
   "execution_count": 6,
   "id": "600e74dc-6c54-4cb4-91c3-0e5107fcf589",
   "metadata": {
    "tags": []
   },
   "outputs": [],
   "source": [
    "from IPython.display import Image, HTML\n",
    "\n",
    "i = Image(url='https://source.unsplash.com/random/400x50?sunset')"
   ]
  },
  {
   "cell_type": "markdown",
   "id": "edafa8a3-8dcd-4db3-a4cf-90c6aaf461bb",
   "metadata": {
    "user_expressions": [
     {
      "expression": "i",
      "result": {
       "data": {
        "text/html": "<img src=\"https://source.unsplash.com/random/400x50?sunset\"/>",
        "text/plain": "<IPython.core.display.Image object>"
       },
       "metadata": {},
       "status": "ok"
      }
     }
    ]
   },
   "source": [
    "This should be an inline image of a sunset: {eval}`i`"
   ]
  },
  {
   "cell_type": "code",
   "execution_count": 7,
   "id": "7a29588f-afb7-4e2b-99fb-132c6ab04372",
   "metadata": {
    "tags": []
   },
   "outputs": [],
   "source": [
    "import numpy as np\n",
    "import matplotlib.pyplot as plt\n",
    "\n",
    "def spark(data):\n",
    "    \"\"\"A very simple sparkline.\n",
    "    \"\"\"\n",
    "    fig, ax = plt.subplots(figsize=(10,2))\n",
    "    ax.plot(data, 'b-')\n",
    "    ax.axhline(c='grey', alpha=0.5);\n",
    "    ax.axis('off')\n",
    "    fig.tight_layout()\n",
    "    plt.close(fig)\n",
    "    return fig, ax\n",
    "\n",
    "# Step 1: Predict the stock market, with surprising accuracy:\n",
    "data = np.cumsum(np.random.rand(1000)-0.5)\n",
    "data -= np.mean(data)\n",
    "\n",
    "stocks, ax1 = spark(data)\n",
    "annotated, ax2 = spark(data)\n",
    "ax2.axvspan(450, 560, color='red', alpha=0.5)\n",
    "ax2.axvspan(680, 740, color='green', alpha=0.5);"
   ]
  },
  {
   "cell_type": "markdown",
   "id": "60a959ef-e31b-4383-9865-982e574debd3",
   "metadata": {
    "user_expressions": [
     {
      "expression": "stocks",
      "result": {
       "data": {
        "image/png": "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",
        "text/plain": "<Figure size 1000x200 with 1 Axes>"
       },
       "metadata": {},
       "status": "ok"
      }
     },
     {
      "expression": "annotated",
      "result": {
       "data": {
        "image/png": "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",
        "text/plain": "<Figure size 1000x200 with 1 Axes>"
       },
       "metadata": {},
       "status": "ok"
      }
     }
    ]
   },
   "source": [
    "\n",
    "If we look at the following stock price for [Apple](https://en.wikipedia.org/wiki/Apple_Inc.) ({eval}`stocks`) we can see that in 2003, they started selling [computers](https://en.wikipedia.org/wiki/MacBook_Pro), in the red region and their stock went crazy once the investment paid off ({eval}`annotated`).[^note]\n",
    "\n",
    "[^note]: Both the graphs are fake, but pretty cool right!  "
   ]
  },
  {
   "cell_type": "code",
   "execution_count": 8,
   "id": "463cdcbe-066d-4187-bf4a-d09b4233666f",
   "metadata": {
    "tags": []
   },
   "outputs": [],
   "source": [
    "text_hover = HTML('<span onmouseover=\"this.innerText=\\'💚\\'\" onmouseout=\"this.innerText=\\'🎉\\'\">❤️</span>');"
   ]
  },
  {
   "cell_type": "markdown",
   "id": "dd711f73-94eb-4da4-ba01-2ac822450a2f",
   "metadata": {
    "tags": [],
    "user_expressions": [
     {
      "expression": "text_hover",
      "result": {
       "data": {
        "text/html": "<span onmouseover=\"this.innerText='💚'\" onmouseout=\"this.innerText='🎉'\">❤️</span>",
        "text/plain": "<IPython.core.display.HTML object>"
       },
       "metadata": {},
       "status": "ok"
      }
     }
    ]
   },
   "source": [
    "Try hovering over this element[^trust]: {eval}`text_hover`\n",
    "\n",
    "[^trust]: You may need to set your notebook to trusted to do this (open the Command Palette from the `View` menu and type \"trust\")!"
   ]
  }
 ],
 "metadata": {
  "kernelspec": {
   "display_name": "Python 3 (ipykernel)",
   "language": "python",
   "name": "python3"
  },
  "language_info": {
   "codemirror_mode": {
    "name": "ipython",
    "version": 3
   },
   "file_extension": ".py",
   "mimetype": "text/x-python",
   "name": "python",
   "nbconvert_exporter": "python",
   "pygments_lexer": "ipython3",
   "version": "3.10.6"
  },
  "widgets": {
   "application/vnd.jupyter.widget-state+json": {
    "state": {
     "3028a2eaf93048e2b160747e9cd024b7": {
      "model_module": "@jupyter-widgets/controls",
      "model_module_version": "2.0.0",
      "model_name": "IntSliderModel",
      "state": {
       "behavior": "drag-tap",
       "description": "Cookies: ",
       "layout": "IPY_MODEL_c457b2c6eae6466a91b59b7feee2d937",
       "max": 30,
       "style": "IPY_MODEL_d27aff879e7d46ba8460417ab44b8521",
       "value": 10
      }
     },
     "3192b16eed2b45fb9529169dcc9e29a3": {
      "model_module": "@jupyter-widgets/controls",
      "model_module_version": "2.0.0",
      "model_name": "LabelModel",
      "state": {
       "layout": "IPY_MODEL_98eb05586250429d97ac28aa490ffb36",
       "style": "IPY_MODEL_ca1fdb2cde7b4fc18feaf34c7ca6e3fe",
       "value": "23.8"
      }
     },
     "73fecf5e0ffc4ed99d3dbfd71ce0eb37": {
      "model_module": "@jupyter-widgets/controls",
      "model_module_version": "2.0.0",
      "model_name": "LinkModel",
      "state": {
       "source": [
        "IPY_MODEL_3028a2eaf93048e2b160747e9cd024b7",
        "value"
       ],
       "target": [
        "IPY_MODEL_f62bf7d11e5845f3800e81f25bf1a857",
        "value"
       ]
      }
     },
     "8a61a01b20ed4409b74116a05696230d": {
      "model_module": "@jupyter-widgets/controls",
      "model_module_version": "2.0.0",
      "model_name": "LabelModel",
      "state": {
       "layout": "IPY_MODEL_e1a4ce220b6345a59e3c67d47aa00a0f",
       "style": "IPY_MODEL_f5e63ab00a5240b1989a5a25a430c43a",
       "value": "500"
      }
     },
     "98eb05586250429d97ac28aa490ffb36": {
      "model_module": "@jupyter-widgets/base",
      "model_module_version": "2.0.0",
      "model_name": "LayoutModel",
      "state": {}
     },
     "9a079c45734a43c199b1e5038b512aae": {
      "model_module": "@jupyter-widgets/controls",
      "model_module_version": "2.0.0",
      "model_name": "DescriptionStyleModel",
      "state": {
       "description_width": ""
      }
     },
     "b06d49a54acb420296cb3351cb90c75d": {
      "model_module": "@jupyter-widgets/base",
      "model_module_version": "2.0.0",
      "model_name": "LayoutModel",
      "state": {}
     },
     "c457b2c6eae6466a91b59b7feee2d937": {
      "model_module": "@jupyter-widgets/base",
      "model_module_version": "2.0.0",
      "model_name": "LayoutModel",
      "state": {}
     },
     "ca1fdb2cde7b4fc18feaf34c7ca6e3fe": {
      "model_module": "@jupyter-widgets/controls",
      "model_module_version": "2.0.0",
      "model_name": "LabelStyleModel",
      "state": {
       "description_width": "",
       "font_family": null,
       "font_size": null,
       "font_style": null,
       "font_variant": null,
       "font_weight": null,
       "text_color": null,
       "text_decoration": null
      }
     },
     "d27aff879e7d46ba8460417ab44b8521": {
      "model_module": "@jupyter-widgets/controls",
      "model_module_version": "2.0.0",
      "model_name": "SliderStyleModel",
      "state": {
       "description_width": ""
      }
     },
     "e1a4ce220b6345a59e3c67d47aa00a0f": {
      "model_module": "@jupyter-widgets/base",
      "model_module_version": "2.0.0",
      "model_name": "LayoutModel",
      "state": {}
     },
     "f5e63ab00a5240b1989a5a25a430c43a": {
      "model_module": "@jupyter-widgets/controls",
      "model_module_version": "2.0.0",
      "model_name": "LabelStyleModel",
      "state": {
       "description_width": "",
       "font_family": null,
       "font_size": null,
       "font_style": null,
       "font_variant": null,
       "font_weight": null,
       "text_color": null,
       "text_decoration": null
      }
     },
     "f62bf7d11e5845f3800e81f25bf1a857": {
      "model_module": "@jupyter-widgets/controls",
      "model_module_version": "2.0.0",
      "model_name": "BoundedIntTextModel",
      "state": {
       "layout": "IPY_MODEL_b06d49a54acb420296cb3351cb90c75d",
       "max": 30,
       "style": "IPY_MODEL_9a079c45734a43c199b1e5038b512aae",
       "value": 10
      }
     }
    },
    "version_major": 2,
    "version_minor": 0
   }
  }
 },
 "nbformat": 4,
 "nbformat_minor": 5
}

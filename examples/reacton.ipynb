{
 "cells": [
  {
   "cell_type": "code",
   "execution_count": 3,
   "id": "cc9740ae-5c00-4191-8d0d-38728d53cc3b",
   "metadata": {
    "tags": []
   },
   "outputs": [
    {
     "data": {
      "application/vnd.jupyter.widget-view+json": {
       "model_id": "613f39fca6c3443c9cf38bf57e017a3c",
       "version_major": 2,
       "version_minor": 0
      },
      "text/html": [
       "Cannot show widget. You probably want to rerun the code cell above (<i>Click in the code cell, and press Shift+Enter <kbd>⇧</kbd>+<kbd>↩</kbd></i>)."
      ],
      "text/plain": [
       "Cannot show ipywidgets in text"
      ]
     },
     "metadata": {},
     "output_type": "display_data"
    }
   ],
   "source": [
    "import reacton\n",
    "import reacton.ipywidgets as w\n",
    "\n",
    "@reacton.component\n",
    "def ButtonClick():\n",
    "    # first render, this return 0, after that, the last argument\n",
    "    # of set_clicks\n",
    "    clicks, set_clicks = reacton.use_state(0)\n",
    "    def my_click_handler():\n",
    "        # trigger a new render with a new value for clicks\n",
    "        set_clicks(clicks+1)\n",
    "    button = w.Button(description=f\"Clicked {clicks} times\",\n",
    "                      on_click=my_click_handler)\n",
    "    return button\n",
    "b = ButtonClick()\n",
    "b"
   ]
  },
  {
   "cell_type": "markdown",
   "id": "798c9f1c-b8f2-4efe-876a-377d3d885c91",
   "metadata": {
    "user_expressions": [
     {
      "expression": "b",
      "result": {
       "data": {},
       "metadata": {},
       "status": "ok"
      }
     }
    ]
   },
   "source": [
    "Does it support Reacton? {eval}`b` Yup :)"
   ]
  },
  {
   "cell_type": "code",
   "execution_count": 4,
   "id": "c9ccf20d-5bd6-4efc-85ae-201d04ed7885",
   "metadata": {},
   "outputs": [
    {
     "data": {
      "application/vnd.jupyter.widget-view+json": {
       "model_id": "bb1ff2da2b0b45998dd3e8879e2dfcce",
       "version_major": 2,
       "version_minor": 0
      },
      "text/html": [
       "Cannot show widget. You probably want to rerun the code cell above (<i>Click in the code cell, and press Shift+Enter <kbd>⇧</kbd>+<kbd>↩</kbd></i>)."
      ],
      "text/plain": [
       "Cannot show ipywidgets in text"
      ]
     },
     "metadata": {},
     "output_type": "display_data"
    }
   ],
   "source": [
    "b"
   ]
  },
  {
   "cell_type": "code",
   "execution_count": 11,
   "id": "d54fef6e-2fe5-4bb4-8c8b-e769c22886a4",
   "metadata": {
    "tags": []
   },
   "outputs": [],
   "source": [
    "class Obj:\n",
    "    def _repr_mimebundle_(self, include, exclude):\n",
    "        return {\n",
    "            \"text/plain\": \"I was rich-rendered\"\n",
    "        }\n",
    "    def _ipython_display_(self):\n",
    "        display({\n",
    "            \"text/plain\": \"I was NOT rich-rendered\"\n",
    "        },raw=True)"
   ]
  },
  {
   "cell_type": "markdown",
   "id": "857c30ac-c2e6-4a1a-8f6c-075d0f957078",
   "metadata": {
    "tags": [],
    "user_expressions": [
     {
      "expression": "Obj()",
      "result": {
       "data": {},
       "metadata": {},
       "status": "ok"
      }
     }
    ]
   },
   "source": [
    "This is {eval}`Obj()` not a drill"
   ]
  },
  {
   "cell_type": "code",
   "execution_count": null,
   "id": "ca1e0ea3-d890-4159-b318-4be780504a60",
   "metadata": {},
   "outputs": [],
   "source": []
  }
 ],
 "metadata": {
  "kernelspec": {
   "display_name": "Python 3 (ipykernel)",
   "language": "python",
   "name": "python3"
  },
  "language_info": {
   "codemirror_mode": {
    "name": "ipython",
    "version": 3
   },
   "file_extension": ".py",
   "mimetype": "text/x-python",
   "name": "python",
   "nbconvert_exporter": "python",
   "pygments_lexer": "ipython3",
   "version": "3.10.6"
  },
  "widgets": {
   "application/vnd.jupyter.widget-state+json": {
    "state": {
     "017801384bb6436985f73dbe34924b25": {
      "model_module": "@jupyter-widgets/base",
      "model_module_version": "2.0.0",
      "model_name": "LayoutModel",
      "state": {}
     },
     "02872f0c4b7843a795dfe9804dfdb0dc": {
      "model_module": "@jupyter-widgets/controls",
      "model_module_version": "2.0.0",
      "model_name": "ButtonModel",
      "state": {
       "description": "Clicked 0 times",
       "layout": "IPY_MODEL_10ff61be383c4c818ac2a9b58efc2a19",
       "style": "IPY_MODEL_9693a8992a884113985c3bb981a67791",
       "tooltip": null
      }
     },
     "10ff61be383c4c818ac2a9b58efc2a19": {
      "model_module": "@jupyter-widgets/base",
      "model_module_version": "2.0.0",
      "model_name": "LayoutModel",
      "state": {}
     },
     "2e5e589002ca4260862bde1bf7519afb": {
      "model_module": "@jupyter-widgets/controls",
      "model_module_version": "2.0.0",
      "model_name": "ButtonStyleModel",
      "state": {
       "font_family": null,
       "font_size": null,
       "font_style": null,
       "font_variant": null,
       "font_weight": null,
       "text_color": null,
       "text_decoration": null
      }
     },
     "3498218c3bd14cdca82b6b1e170813d7": {
      "model_module": "@jupyter-widgets/base",
      "model_module_version": "2.0.0",
      "model_name": "LayoutModel",
      "state": {}
     },
     "3a0c9fe63b774361b3c39fc4f87de1d7": {
      "model_module": "@jupyter-widgets/base",
      "model_module_version": "2.0.0",
      "model_name": "LayoutModel",
      "state": {}
     },
     "5f1b6a10a7a6478ab21b203f145286b0": {
      "model_module": "@jupyter-widgets/base",
      "model_module_version": "2.0.0",
      "model_name": "LayoutModel",
      "state": {}
     },
     "613f39fca6c3443c9cf38bf57e017a3c": {
      "model_module": "@jupyter-widgets/controls",
      "model_module_version": "2.0.0",
      "model_name": "VBoxModel",
      "state": {
       "_view_count": 1,
       "children": [
        "IPY_MODEL_bc9b09fa3c334d0cbe2291bc0df04a85"
       ],
       "layout": "IPY_MODEL_5f1b6a10a7a6478ab21b203f145286b0"
      }
     },
     "707c51ac1adb40b794cda46a446cd8a0": {
      "model_module": "@jupyter-widgets/controls",
      "model_module_version": "2.0.0",
      "model_name": "ButtonModel",
      "state": {
       "description": "Clicked 6 times",
       "layout": "IPY_MODEL_a64dd2a39e84471bbeb47dfa99453d8e",
       "style": "IPY_MODEL_71db9a8983234ad4bc25e726b6faee36",
       "tooltip": null
      }
     },
     "70f8e987771d4313b015667fba7b710e": {
      "model_module": "@jupyter-widgets/controls",
      "model_module_version": "2.0.0",
      "model_name": "VBoxModel",
      "state": {
       "_view_count": 0,
       "children": [
        "IPY_MODEL_9de837e747734b90ae2cb98ac4318957"
       ],
       "layout": "IPY_MODEL_bdddb1da4f36496691819b57d785ac3d"
      }
     },
     "71db9a8983234ad4bc25e726b6faee36": {
      "model_module": "@jupyter-widgets/controls",
      "model_module_version": "2.0.0",
      "model_name": "ButtonStyleModel",
      "state": {
       "font_family": null,
       "font_size": null,
       "font_style": null,
       "font_variant": null,
       "font_weight": null,
       "text_color": null,
       "text_decoration": null
      }
     },
     "8b9507e779574f0a893a4cb95860228b": {
      "model_module": "@jupyter-widgets/base",
      "model_module_version": "2.0.0",
      "model_name": "LayoutModel",
      "state": {}
     },
     "9693a8992a884113985c3bb981a67791": {
      "model_module": "@jupyter-widgets/controls",
      "model_module_version": "2.0.0",
      "model_name": "ButtonStyleModel",
      "state": {
       "font_family": null,
       "font_size": null,
       "font_style": null,
       "font_variant": null,
       "font_weight": null,
       "text_color": null,
       "text_decoration": null
      }
     },
     "98c34eaa828e4ea0b9a8e321d1972041": {
      "model_module": "@jupyter-widgets/base",
      "model_module_version": "2.0.0",
      "model_name": "LayoutModel",
      "state": {}
     },
     "9d35f090149c4316bc13bc4ab127953c": {
      "model_module": "@jupyter-widgets/controls",
      "model_module_version": "2.0.0",
      "model_name": "ButtonStyleModel",
      "state": {
       "font_family": null,
       "font_size": null,
       "font_style": null,
       "font_variant": null,
       "font_weight": null,
       "text_color": null,
       "text_decoration": null
      }
     },
     "9de837e747734b90ae2cb98ac4318957": {
      "model_module": "@jupyter-widgets/controls",
      "model_module_version": "2.0.0",
      "model_name": "ButtonModel",
      "state": {
       "description": "Clicked 0 times",
       "layout": "IPY_MODEL_3a0c9fe63b774361b3c39fc4f87de1d7",
       "style": "IPY_MODEL_2e5e589002ca4260862bde1bf7519afb",
       "tooltip": null
      }
     },
     "a64dd2a39e84471bbeb47dfa99453d8e": {
      "model_module": "@jupyter-widgets/base",
      "model_module_version": "2.0.0",
      "model_name": "LayoutModel",
      "state": {}
     },
     "af9550fcceda44c2a93bc93550ffb41c": {
      "model_module": "@jupyter-widgets/controls",
      "model_module_version": "2.0.0",
      "model_name": "ButtonModel",
      "state": {
       "description": "Clicked 0 times",
       "layout": "IPY_MODEL_8b9507e779574f0a893a4cb95860228b",
       "style": "IPY_MODEL_9d35f090149c4316bc13bc4ab127953c",
       "tooltip": null
      }
     },
     "afe0ab1cbf8c45d4913e2da371323ef1": {
      "model_module": "@jupyter-widgets/controls",
      "model_module_version": "2.0.0",
      "model_name": "VBoxModel",
      "state": {
       "_view_count": 1,
       "children": [
        "IPY_MODEL_02872f0c4b7843a795dfe9804dfdb0dc"
       ],
       "layout": "IPY_MODEL_3498218c3bd14cdca82b6b1e170813d7"
      }
     },
     "b3d4765ac7514da7a9efc09d3a533836": {
      "model_module": "@jupyter-widgets/controls",
      "model_module_version": "2.0.0",
      "model_name": "ButtonStyleModel",
      "state": {
       "font_family": null,
       "font_size": null,
       "font_style": null,
       "font_variant": null,
       "font_weight": null,
       "text_color": null,
       "text_decoration": null
      }
     },
     "bb1ff2da2b0b45998dd3e8879e2dfcce": {
      "model_module": "@jupyter-widgets/controls",
      "model_module_version": "2.0.0",
      "model_name": "VBoxModel",
      "state": {
       "_view_count": 1,
       "children": [
        "IPY_MODEL_707c51ac1adb40b794cda46a446cd8a0"
       ],
       "layout": "IPY_MODEL_f0d9a78a8b374fd5ac95961347ba7747"
      }
     },
     "bc9b09fa3c334d0cbe2291bc0df04a85": {
      "model_module": "@jupyter-widgets/controls",
      "model_module_version": "2.0.0",
      "model_name": "ButtonModel",
      "state": {
       "description": "Clicked 9 times",
       "layout": "IPY_MODEL_98c34eaa828e4ea0b9a8e321d1972041",
       "style": "IPY_MODEL_b3d4765ac7514da7a9efc09d3a533836",
       "tooltip": null
      }
     },
     "bdddb1da4f36496691819b57d785ac3d": {
      "model_module": "@jupyter-widgets/base",
      "model_module_version": "2.0.0",
      "model_name": "LayoutModel",
      "state": {}
     },
     "f0d9a78a8b374fd5ac95961347ba7747": {
      "model_module": "@jupyter-widgets/base",
      "model_module_version": "2.0.0",
      "model_name": "LayoutModel",
      "state": {}
     },
     "f961b8a2cbed44f7aae89c3f540b4e2c": {
      "model_module": "@jupyter-widgets/controls",
      "model_module_version": "2.0.0",
      "model_name": "VBoxModel",
      "state": {
       "_view_count": 0,
       "children": [
        "IPY_MODEL_af9550fcceda44c2a93bc93550ffb41c"
       ],
       "layout": "IPY_MODEL_017801384bb6436985f73dbe34924b25"
      }
     }
    },
    "version_major": 2,
    "version_minor": 0
   }
  }
 },
 "nbformat": 4,
 "nbformat_minor": 5
}

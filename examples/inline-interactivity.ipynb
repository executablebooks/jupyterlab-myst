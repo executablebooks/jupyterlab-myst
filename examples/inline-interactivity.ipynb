{
 "cells": [
  {
   "cell_type": "markdown",
   "id": "613eaf50-e4f0-4328-b0be-c246fb216577",
   "metadata": {},
   "source": [
    "---\n",
    "title: Inline Interactivity in Jupyter using MyST\n",
    "subtitle: Using inline widgets in JupyterLab markdown cells\n",
    "author:\n",
    "  - name: Rowan Cockett\n",
    "    affiliations: Executable Books; Curvenote\n",
    "    orcid: 0000-0002-7859-8394\n",
    "    email: rowan@curvenote.com\n",
    "  - name: Angus Hollands\n",
    "    affiliations: Executable Books\n",
    "  - name: Steve Purves\n",
    "    affiliations: Executable Books; Curvenote\n",
    "date: 2023/02/20\n",
    "---\n",
    "\n",
    "The [JupyterLab MyST extension](https://github.com/executablebooks/jupyterlab-myst) allows you to have MyST renderer in your markdown cells that includes interactivity and inline-evaluation."
   ]
  },
  {
   "cell_type": "markdown",
   "id": "d3c1dba2-889d-4817-8d48-83d45c03a337",
   "metadata": {
    "user_expressions": [
     {
      "expression": "1+1",
      "result": {
       "data": {
        "text/plain": "2"
       },
       "metadata": {},
       "status": "ok"
      }
     }
    ]
   },
   "source": [
    "This is done through the `` {eval}`1+1` `` role, which results in {eval}`1+1`. The extension can also access variables in the kernel.\n",
    "\n",
    ":::{warning} Syntax is Subject to Change\n",
    ":class: dropdown\n",
    "The current syntax is based on a myst role, which may change in the future -- for example to be closer to an inline expression `${}`. This will go through a MyST enhancement proposal, and the `{eval}` role will likely still be supported.\n",
    ":::"
   ]
  },
  {
   "cell_type": "code",
   "execution_count": 2,
   "id": "90dffa46-b084-4b24-a650-e5f5a9aa526e",
   "metadata": {
    "tags": []
   },
   "outputs": [],
   "source": [
    "import numpy as np\n",
    "array = np.arange(4)"
   ]
  },
  {
   "cell_type": "markdown",
   "id": "59394c26-2936-4225-96fa-e620e5709537",
   "metadata": {
    "user_expressions": [
     {
      "expression": "1+12",
      "result": {
       "data": {
        "text/plain": "13"
       },
       "metadata": {},
       "status": "ok"
      }
     }
    ]
   },
   "source": [
    "{eval}`1+12`"
   ]
  },
  {
   "cell_type": "markdown",
   "id": "e8af4aa1-9d91-494e-9a76-4d57a611d9e0",
   "metadata": {
    "user_expressions": [
     {
      "expression": "array",
      "result": {
       "data": {
        "text/plain": "array([0, 1, 2, 3])"
       },
       "metadata": {},
       "status": "ok"
      }
     },
     {
      "expression": "array.sum()",
      "result": {
       "data": {
        "text/plain": "6"
       },
       "metadata": {},
       "status": "ok"
      }
     },
     {
      "expression": "array.max()",
      "result": {
       "data": {
        "text/plain": "3"
       },
       "metadata": {},
       "status": "ok"
      }
     }
    ]
   },
   "source": [
    "Let's consider the following array: {eval}`array`.\n",
    "\n",
    "We can compute the total: {eval}`array.sum()` and the maximum value is {eval}`array.max()`.\n",
    "\n",
    "This is done through using MyST syntax: `` {eval}`array.sum()` `` and `` {eval}`array.max()` ``, respectively. "
   ]
  },
  {
   "cell_type": "markdown",
   "id": "1f985277-364b-4d3d-ad38-3873fdcf895e",
   "metadata": {
    "user_expressions": [
     {
      "expression": "x",
      "result": {
       "ename": "NameError",
       "evalue": "name 'x' is not defined",
       "status": "error",
       "traceback": [
        "\u001b[0;31mNameError\u001b[0m\u001b[0;31m:\u001b[0m name 'x' is not defined\n"
       ]
      }
     }
    ]
   },
   "source": [
    "Let's consider the following array: {eval}`x`"
   ]
  },
  {
   "cell_type": "markdown",
   "id": "7ed74234-5230-4cdc-9e26-21fb1aca70a2",
   "metadata": {},
   "source": [
    "## Displaying text values computed by widgets\n",
    "\n",
    "The example below builds a small widget that updates several values, and we then display them in markdown cells. We use a [`widgets.Label` object](https://ipywidgets.readthedocs.io/en/stable/examples/Widget%20List.html?#Label), which stores a _string_ value and displays it as formatted html."
   ]
  },
  {
   "cell_type": "code",
   "execution_count": 3,
   "id": "5ffba1f7-e455-4dce-a645-38988d97b01b",
   "metadata": {
    "tags": []
   },
   "outputs": [],
   "source": [
    "import ipywidgets as widgets\n",
    "\n",
    "cookiesSlider = widgets.IntSlider(min=0, max=30, step=1, value=10, description=\"Cookies: \")\n",
    "cookiesText = widgets.BoundedIntText(\n",
    "    value=10,\n",
    "    min=0,\n",
    "    max=30,\n",
    "    step=1,\n",
    ")\n",
    "widgetLink = widgets.jslink((cookiesSlider, 'value'), (cookiesText, 'value'))\n",
    "\n",
    "caloriesPerCookie = 50\n",
    "dailyCalories = 2100\n",
    "\n",
    "calories = widgets.Label(value=f'{cookiesSlider.value * caloriesPerCookie}')\n",
    "def fc(n):\n",
    "    calories.value = f'{n[\"owner\"].value * caloriesPerCookie}'\n",
    "cookiesSlider.observe(fc)\n",
    "\n",
    "def pct_cookie(cookies):\n",
    "    return f\"{cookies * caloriesPerCookie / dailyCalories * 100:.1f}\"\n",
    "\n",
    "percent = widgets.Label(value=pct_cookie(cookiesSlider.value))\n",
    "\n",
    "def fp(change):\n",
    "    percent.value = pct_cookie(change['new'])\n",
    "    \n",
    "cookiesSlider.observe(fp, 'value')"
   ]
  },
  {
   "cell_type": "markdown",
   "id": "b8ac6e3c-2982-4921-a882-6b4eeaffe936",
   "metadata": {
    "user_expressions": [
     {
      "expression": "cookiesText",
      "result": {
       "data": {
        "application/vnd.jupyter.widget-view+json": {
         "model_id": "0ad5b842d3c6438fba52c7760548d8d7",
         "version_major": 2,
         "version_minor": 0
        },
        "text/plain": "BoundedIntText(value=18, max=30)"
       },
       "metadata": {},
       "status": "ok"
      }
     },
     {
      "expression": "calories",
      "result": {
       "data": {
        "application/vnd.jupyter.widget-view+json": {
         "model_id": "b703ec9bc6b449bd90d22b3d4d1e605b",
         "version_major": 2,
         "version_minor": 0
        },
        "text/plain": "Label(value='900')"
       },
       "metadata": {},
       "status": "ok"
      }
     },
     {
      "expression": "percent",
      "result": {
       "data": {
        "application/vnd.jupyter.widget-view+json": {
         "model_id": "7b8169bf5dd44875bc343dfcbed7f6bc",
         "version_major": 2,
         "version_minor": 0
        },
        "text/plain": "Label(value='42.9')"
       },
       "metadata": {},
       "status": "ok"
      }
     },
     {
      "expression": "cookiesSlider",
      "result": {
       "data": {
        "application/vnd.jupyter.widget-view+json": {
         "model_id": "9684b16a415b435cb6645f5871f215a2",
         "version_major": 2,
         "version_minor": 0
        },
        "text/plain": "IntSlider(value=18, description='Cookies: ', max=30)"
       },
       "metadata": {},
       "status": "ok"
      }
     }
    ]
   },
   "source": [
    ":::{important} Calculate Consuming Cookie Calories 🍪 🧮\n",
    "When you eat {eval}`cookiesText` cookies, you consume {eval}`calories` calories. \n",
    "\n",
    "That's {eval}`percent`% of your recommended daily calories.\n",
    "\n",
    ":::\n",
    "\n",
    "You can also edit this through a slider if you want: {eval}`cookiesSlider`\n",
    "\n",
    ":::{note} Improvements\n",
    ":class: dropdown\n",
    "There is a lot to improve both for formatting (e.g. format the numbering) and for the verbosity of the above code for linking and calculating the widgets.\n",
    "These are probably going to be a combination of a MyST library for working with simple inline widgets and showing numbers, as well as improvements and tweaks to the inline renderers for the mime bundles.\n",
    "\n",
    "But you can already do things! 🚀\n",
    ":::"
   ]
  },
  {
   "cell_type": "markdown",
   "id": "b10ff885-9088-442a-b5bd-410aa9a4a45a",
   "metadata": {
    "user_expressions": [
     {
      "expression": "I",
      "result": {
       "data": {
        "text/latex": "$\\displaystyle \\int\\limits_{0}^{1} \\left(x^{2} + x + 1\\right)\\, dx$",
        "text/plain": "Integral(x**2 + x + 1, (x, 0, 1))"
       },
       "metadata": {},
       "status": "ok"
      }
     },
     {
      "expression": "I",
      "result": {
       "data": {
        "text/latex": "$\\displaystyle \\int\\limits_{0}^{1} \\left(x^{2} + x + 1\\right)\\, dx$",
        "text/plain": "Integral(x**2 + x + 1, (x, 0, 1))"
       },
       "metadata": {},
       "status": "ok"
      }
     },
     {
      "expression": "I.doit()",
      "result": {
       "data": {
        "text/latex": "$\\displaystyle \\frac{11}{6}$",
        "text/plain": "11/6"
       },
       "metadata": {},
       "status": "ok"
      }
     }
    ]
   },
   "source": [
    "The integral {eval}`I` can be analytically computed\n",
    "\n",
    "{eval}`I` = {eval}`I.doit()`.\n",
    "\n",
    ":::{warning} Math rendering is still unstable\n",
    "\n",
    "We've noticed issues with this feature - rendering is slow and sometimes weird glitches orccur. [We're tracking it](https://github.com/executablebooks/jupyterlab-myst/issues/96).\n",
    ":::"
   ]
  }
 ],
 "metadata": {
  "kernelspec": {
   "display_name": "Python 3 (ipykernel)",
   "language": "python",
   "name": "python3"
  },
  "language_info": {
   "codemirror_mode": {
    "name": "ipython",
    "version": 3
   },
   "file_extension": ".py",
   "mimetype": "text/x-python",
   "name": "python",
   "nbconvert_exporter": "python",
   "pygments_lexer": "ipython3",
   "version": "3.10.6"
  },
  "widgets": {
   "application/vnd.jupyter.widget-state+json": {
    "state": {},
    "version_major": 2,
    "version_minor": 0
   }
  }
 },
 "nbformat": 4,
 "nbformat_minor": 5
}

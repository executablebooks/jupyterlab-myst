{
 "cells": [
  {
   "cell_type": "code",
   "execution_count": 1,
   "id": "e32f3497-0dcc-43d4-b4a9-6a558f21a712",
   "metadata": {
    "tags": []
   },
   "outputs": [],
   "source": [
    "from ipywidgets import IntSlider"
   ]
  },
  {
   "cell_type": "code",
   "execution_count": 2,
   "id": "1ed0be6e-2dce-4b6f-8dbd-097d5e87ef69",
   "metadata": {
    "tags": []
   },
   "outputs": [],
   "source": [
    "slider = IntSlider()"
   ]
  },
  {
   "cell_type": "markdown",
   "id": "e1f14c46-62aa-4158-a11f-73e278f634fe",
   "metadata": {
    "tags": [],
    "user_expressions": [
     {
      "expression": "slider",
      "result": {
       "data": {
        "application/vnd.jupyter.widget-view+json": {
         "model_id": "2caca9da71c0401792138d7136e69503",
         "version_major": 2,
         "version_minor": 0
        },
        "text/plain": "IntSlider(value=0)"
       },
       "metadata": {},
       "status": "ok"
      }
     }
    ]
   },
   "source": [
    "This is a {eval}`slider`"
   ]
  }
 ],
 "metadata": {
  "kernelspec": {
   "display_name": "Python 3 (ipykernel)",
   "language": "python",
   "name": "python3"
  },
  "language_info": {
   "codemirror_mode": {
    "name": "ipython",
    "version": 3
   },
   "file_extension": ".py",
   "mimetype": "text/x-python",
   "name": "python",
   "nbconvert_exporter": "python",
   "pygments_lexer": "ipython3",
   "version": "3.10.6"
  },
  "widgets": {
   "application/vnd.jupyter.widget-state+json": {
    "state": {
     "2caca9da71c0401792138d7136e69503": {
      "model_module": "@jupyter-widgets/controls",
      "model_module_version": "2.0.0",
      "model_name": "IntSliderModel",
      "state": {
       "behavior": "drag-tap",
       "layout": "IPY_MODEL_7122770fb4124336af97c275e626ec63",
       "style": "IPY_MODEL_9cb7e3aba7ed45e69461cfb2d57a9dec",
       "value": 50
      }
     },
     "7122770fb4124336af97c275e626ec63": {
      "model_module": "@jupyter-widgets/base",
      "model_module_version": "2.0.0",
      "model_name": "LayoutModel",
      "state": {}
     },
     "9cb7e3aba7ed45e69461cfb2d57a9dec": {
      "model_module": "@jupyter-widgets/controls",
      "model_module_version": "2.0.0",
      "model_name": "SliderStyleModel",
      "state": {
       "description_width": ""
      }
     }
    },
    "version_major": 2,
    "version_minor": 0
   }
  }
 },
 "nbformat": 4,
 "nbformat_minor": 5
}
